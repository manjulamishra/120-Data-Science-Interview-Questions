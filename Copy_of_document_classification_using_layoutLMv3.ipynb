{
  "nbformat": 4,
  "nbformat_minor": 0,
  "metadata": {
    "colab": {
      "provenance": [],
      "include_colab_link": true
    },
    "kernelspec": {
      "name": "python3",
      "display_name": "Python 3"
    },
    "language_info": {
      "name": "python"
    }
  },
  "cells": [
    {
      "cell_type": "markdown",
      "metadata": {
        "id": "view-in-github",
        "colab_type": "text"
      },
      "source": [
        "<a href=\"https://colab.research.google.com/github/manjulamishra/120-Data-Science-Interview-Questions/blob/master/Copy_of_document_classification_using_layoutLMv3.ipynb\" target=\"_parent\"><img src=\"https://colab.research.google.com/assets/colab-badge.svg\" alt=\"Open In Colab\"/></a>"
      ]
    },
    {
      "cell_type": "markdown",
      "source": [
        "## Reference\n",
        "https://youtu.be/HFHI8C44Q2w\n"
      ],
      "metadata": {
        "id": "Pn_MVFxn8591"
      }
    },
    {
      "cell_type": "code",
      "execution_count": null,
      "metadata": {
        "colab": {
          "base_uri": "https://localhost:8080/"
        },
        "id": "LcSY74ok5xhc",
        "outputId": "398799d9-35d9-4edc-b684-05698679c1c4"
      },
      "outputs": [
        {
          "output_type": "stream",
          "name": "stdout",
          "text": [
            "\u001b[?25l\n",
            "\u001b[?25h\u001b[?25l\n",
            "\u001b[?25h\u001b[?25l\n",
            "\u001b[?25h\u001b[?25l\n",
            "\u001b[31mERROR: pip's dependency resolver does not currently take into account all the packages that are installed. This behaviour is the source of the following dependency conflicts.\n",
            "requests 2.23.0 requires urllib3!=1.25.0,!=1.25.1,<1.26,>=1.21.1, but you have urllib3 1.26.13 which is incompatible.\u001b[0m\n",
            "\u001b[?25h\u001b[?25l\n",
            "\u001b[?25h\u001b[?25l\n",
            "\u001b[?25h\u001b[?25l\n",
            "\u001b[?25h\u001b[?25l\n",
            "\u001b[31mERROR: pip's dependency resolver does not currently take into account all the packages that are installed. This behaviour is the source of the following dependency conflicts.\n",
            "selenium 4.7.2 requires urllib3[socks]~=1.26, but you have urllib3 1.25.11 which is incompatible.\u001b[0m\n",
            "\u001b[?25h\u001b[?25l\n",
            "\u001b[?25h\u001b[?25l\n",
            "\u001b[?25h\u001b[?25l\n",
            "\u001b[?25h\u001b[?25l\n",
            "\u001b[?25h"
          ]
        }
      ],
      "source": [
        "!pip install -qqq Selenium --progress-bar off\n",
        "!pip install -qqq Selenium-Screenshot --progress-bar off\n",
        "!pip install -qqq transformers==4.20.1 --progress-bar off\n",
        "!pip install -qqq pytorch-lightning==1.6.4 --progress-bar off\n",
        "!pip install -qqq pytesseract --progress-bar off\n",
        "!pip install -qqq Pillow==9.0.1 --progress-bar off"
      ]
    },
    {
      "cell_type": "code",
      "source": [
        "!apt-get -qq update > /dev/null\n",
        "!apt -qq install chromium-chromedriver > /dev/null\n",
        "!apt -qq install tesseract-ocr > /dev/null"
      ],
      "metadata": {
        "colab": {
          "base_uri": "https://localhost:8080/"
        },
        "id": "VkB9B90A4jUQ",
        "outputId": "b4171cfe-b2c4-40d4-e59c-b431b55cee11"
      },
      "execution_count": null,
      "outputs": [
        {
          "output_type": "stream",
          "name": "stdout",
          "text": [
            "\n",
            "WARNING: apt does not have a stable CLI interface. Use with caution in scripts.\n",
            "\n",
            "\n",
            "WARNING: apt does not have a stable CLI interface. Use with caution in scripts.\n",
            "\n"
          ]
        }
      ]
    },
    {
      "cell_type": "code",
      "source": [
        "!gdown 1x02cIc-F_ExpoUvxIeRNPo3DZrGwg-Q9"
      ],
      "metadata": {
        "colab": {
          "base_uri": "https://localhost:8080/"
        },
        "id": "F3vLNKvg7L8m",
        "outputId": "8c341801-8bd0-4f1c-ad9d-9608145d848e"
      },
      "execution_count": null,
      "outputs": [
        {
          "output_type": "stream",
          "name": "stdout",
          "text": [
            "Downloading...\n",
            "From: https://drive.google.com/uc?id=1x02cIc-F_ExpoUvxIeRNPo3DZrGwg-Q9\n",
            "To: /content/kaggle_financial_document_clustering_dataset.zip\n",
            "\r  0% 0.00/3.10M [00:00<?, ?B/s]\r100% 3.10M/3.10M [00:00<00:00, 229MB/s]\n"
          ]
        }
      ]
    },
    {
      "cell_type": "code",
      "source": [
        "!unzip -q kaggle_financial_document_clustering_dataset.zip"
      ],
      "metadata": {
        "id": "o_mNG2O07r83"
      },
      "execution_count": null,
      "outputs": []
    },
    {
      "cell_type": "code",
      "source": [
        "!mv \"TableClassifierQuaterlyWithNotes/\" \"documents\""
      ],
      "metadata": {
        "id": "apR00lfd8Bqz"
      },
      "execution_count": null,
      "outputs": []
    },
    {
      "cell_type": "code",
      "source": [
        "!ls"
      ],
      "metadata": {
        "colab": {
          "base_uri": "https://localhost:8080/"
        },
        "id": "t7_3jPYa8Y_w",
        "outputId": "2c18334e-8187-446b-bd5e-4249c9d0b699"
      },
      "execution_count": null,
      "outputs": [
        {
          "output_type": "stream",
          "name": "stdout",
          "text": [
            "documents  kaggle_financial_document_clustering_dataset.zip  sample_data\n"
          ]
        }
      ]
    },
    {
      "cell_type": "code",
      "source": [],
      "metadata": {
        "id": "5YxXg4Y18mcu"
      },
      "execution_count": null,
      "outputs": []
    }
  ]
}