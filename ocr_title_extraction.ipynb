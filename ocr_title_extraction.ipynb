{
  "cells": [
    {
      "cell_type": "markdown",
      "metadata": {
        "id": "view-in-github",
        "colab_type": "text"
      },
      "source": [
        "<a href=\"https://colab.research.google.com/github/manjulamishra/120-Data-Science-Interview-Questions/blob/master/ocr_title_extraction.ipynb\" target=\"_parent\"><img src=\"https://colab.research.google.com/assets/colab-badge.svg\" alt=\"Open In Colab\"/></a>"
      ]
    },
    {
      "cell_type": "code",
      "execution_count": 35,
      "metadata": {
        "colab": {
          "base_uri": "https://localhost:8080/"
        },
        "id": "hWxzYUnWnJup",
        "outputId": "21881390-0c54-468d-ebb4-af06bb1f661c"
      },
      "outputs": [
        {
          "output_type": "stream",
          "name": "stdout",
          "text": [
            "Drive already mounted at /content/drive; to attempt to forcibly remount, call drive.mount(\"/content/drive\", force_remount=True).\n"
          ]
        }
      ],
      "source": [
        "from google.colab import drive\n",
        "drive.mount('/content/drive')"
      ]
    },
    {
      "cell_type": "code",
      "execution_count": 53,
      "metadata": {
        "colab": {
          "base_uri": "https://localhost:8080/"
        },
        "id": "EYaeFsSao2sj",
        "outputId": "9b3e2c91-ebb2-4748-d707-19a7e9eac2fe"
      },
      "outputs": [
        {
          "output_type": "stream",
          "name": "stdout",
          "text": [
            "/content/drive/My Drive/test_doc_ocr\n"
          ]
        }
      ],
      "source": [
        "%cd /content/drive/My Drive/test_doc_ocr/"
      ]
    },
    {
      "cell_type": "code",
      "execution_count": 56,
      "metadata": {
        "colab": {
          "base_uri": "https://localhost:8080/",
          "height": 35
        },
        "id": "CtXHqEviqD_j",
        "outputId": "37b5d6d2-5e7a-4404-b404-05712647ea8d"
      },
      "outputs": [
        {
          "output_type": "execute_result",
          "data": {
            "text/plain": [
              "'/content/drive/My Drive/test_doc_ocr'"
            ],
            "application/vnd.google.colaboratory.intrinsic+json": {
              "type": "string"
            }
          },
          "metadata": {},
          "execution_count": 56
        }
      ],
      "source": [
        "pwd"
      ]
    },
    {
      "cell_type": "code",
      "execution_count": 59,
      "metadata": {
        "colab": {
          "base_uri": "https://localhost:8080/"
        },
        "id": "cAWRRLaf1ksO",
        "outputId": "38e8eab4-03fd-4637-87a4-d90eb210fdb6"
      },
      "outputs": [
        {
          "output_type": "stream",
          "name": "stdout",
          "text": [
            "Closing Disclosure\n"
          ]
        }
      ],
      "source": [
        "!pdftitle -p closing_disclosure.pdf "
      ]
    },
    {
      "cell_type": "code",
      "source": [
        "pip install pdfminer"
      ],
      "metadata": {
        "colab": {
          "base_uri": "https://localhost:8080/",
          "height": 355
        },
        "id": "3M3wRBgs5pMy",
        "outputId": "b4347da4-a7d4-4c43-9c91-a43456cd43d6"
      },
      "execution_count": 61,
      "outputs": [
        {
          "output_type": "stream",
          "name": "stdout",
          "text": [
            "Looking in indexes: https://pypi.org/simple, https://us-python.pkg.dev/colab-wheels/public/simple/\n",
            "Collecting pdfminer\n",
            "  Downloading pdfminer-20191125.tar.gz (4.2 MB)\n",
            "\u001b[K     |████████████████████████████████| 4.2 MB 5.2 MB/s \n",
            "\u001b[?25hCollecting pycryptodome\n",
            "  Downloading pycryptodome-3.15.0-cp35-abi3-manylinux2010_x86_64.whl (2.3 MB)\n",
            "\u001b[K     |████████████████████████████████| 2.3 MB 16.4 MB/s \n",
            "\u001b[?25hBuilding wheels for collected packages: pdfminer\n",
            "  Building wheel for pdfminer (setup.py) ... \u001b[?25l\u001b[?25hdone\n",
            "  Created wheel for pdfminer: filename=pdfminer-20191125-py3-none-any.whl size=6140077 sha256=0568454de01f2038999302859f93f8094f05fc20b51b90c79cf5bc0c8f9f375c\n",
            "  Stored in directory: /root/.cache/pip/wheels/e3/5e/f4/d210b46e9e4a28229ea070ed5b3efa92c3c29d1a7918dd4b97\n",
            "Successfully built pdfminer\n",
            "Installing collected packages: pycryptodome, pdfminer\n",
            "Successfully installed pdfminer-20191125 pycryptodome-3.15.0\n"
          ]
        },
        {
          "output_type": "display_data",
          "data": {
            "application/vnd.colab-display-data+json": {
              "pip_warning": {
                "packages": [
                  "pdfminer"
                ]
              }
            }
          },
          "metadata": {}
        }
      ]
    },
    {
      "cell_type": "code",
      "source": [
        "from pdfminer.pdfparser import PDFParser\n",
        "from pdfminer.pdfdocument import PDFDocument\n",
        "from pdfminer.pdfpage import PDFPage"
      ],
      "metadata": {
        "id": "GyxCguVL57Z_"
      },
      "execution_count": 69,
      "outputs": []
    },
    {
      "cell_type": "code",
      "source": [
        "parser = PDFParser(open(\"closing_disclosure.pdf\",\"rb\"))"
      ],
      "metadata": {
        "id": "F_hhPCTG6JX7"
      },
      "execution_count": 67,
      "outputs": []
    },
    {
      "cell_type": "code",
      "source": [
        "doc = PDFDocument(parser) "
      ],
      "metadata": {
        "id": "au4gx6dW6Xkd"
      },
      "execution_count": 68,
      "outputs": []
    },
    {
      "cell_type": "code",
      "source": [
        "current_page_number = 0\n",
        "for page in PDFPage.create_pages(doc):\n",
        "  current_page_number = current_page_number + 1\n",
        "  print(\"page \", current_page_number)"
      ],
      "metadata": {
        "colab": {
          "base_uri": "https://localhost:8080/"
        },
        "id": "O4500FuX6epK",
        "outputId": "c9bf6732-892d-4e10-b2ee-5d2ec9a8d21a"
      },
      "execution_count": 74,
      "outputs": [
        {
          "output_type": "stream",
          "name": "stdout",
          "text": [
            "page  1\n",
            "page  2\n",
            "page  3\n",
            "page  4\n",
            "page  5\n"
          ]
        }
      ]
    },
    {
      "cell_type": "code",
      "source": [
        "from pdfminer.layout import LTTextBoxHorizontal\n",
        "from pdfminer.high_level import extract_text\n",
        "from pdfminer.high_level import extract_pages\n",
        "\n",
        "# text = extract_text(\"closing_disclosure.pdf\")\n",
        "# print(text)\n",
        "\n",
        "for page_layout in extract_pages(\"mortgage.pdf\"):\n",
        "  print(f\"\\n\\n [page {page_layout.pageid}] \")\n",
        "  for element in page_layout:\n",
        "    if isinstance(element, (LTTextBoxHorizontal)):\n",
        "      # print(f\"the first line of text in page {page_layout.pageid} is:  {element.get_text()}\")\n",
        "      split_txts = element.get_text().split(\".\")\n",
        "      if len(split_txts) > 0:\n",
        "        try:\n",
        "          header_index = int(split_txts[0])\n",
        "          print(f\"{element.get_text()}\")\n",
        "        except:\n",
        "          pass"
      ],
      "metadata": {
        "colab": {
          "base_uri": "https://localhost:8080/"
        },
        "id": "9fnR4_bQ6tYu",
        "outputId": "0e1d75aa-90fd-4591-b430-5cee20922075"
      },
      "execution_count": 99,
      "outputs": [
        {
          "output_type": "stream",
          "name": "stdout",
          "text": [
            "\n",
            "\n",
            " [page 1] \n",
            "1 \n",
            "\n",
            "\n",
            "\n",
            " [page 2] \n",
            "1.  Payment of Principal and Interest.  Borrower shall pay when due the principal of, and \n",
            "\n",
            "2.  Payment of Property Charges.  Borrower shall pay all property charges consisting of \n",
            "\n",
            "3.  Fire, Flood and Other Hazard Insurance.  Borrower shall insure all improvements on \n",
            "the Property, whether now in existence or subsequently erected, against any hazards, casualties, and \n",
            "contingencies, including fire.  This insurance shall be maintained in the amounts, to the extent and \n",
            "for the periods required by Lender or the Secretary of Housing and Urban Development \n",
            "(“Secretary”).  Borrower shall also insure all improvements on the Property, whether now in \n",
            "existence or subsequently erected, against loss by floods to the extent required by the Secretary.  \n",
            "All insurance shall be carried with companies approved by Lender.  The insurance policies and any \n",
            "renewals shall be held by Lender and shall include loss payable clauses in favor of, and in a form \n",
            "acceptable to, Lender. \n",
            "\n",
            "4.  Occupancy, Preservation, Maintenance and Protection of the Property; Borrower's \n",
            "\n",
            "2 \n",
            "\n",
            "\n",
            "\n",
            " [page 3] \n",
            "5.  Charges to Borrower and Protection of Lender's Rights in the Property.  Borrower \n",
            "\n",
            "6.  Inspection.  Lender or its agent may enter on, inspect or make appraisals of the Property \n",
            "in a reasonable manner and at reasonable times provided that Lender shall give the Borrower notice \n",
            "prior to any inspection or appraisal specifying a purpose for the inspection or appraisal which must \n",
            "be related to Lender's interest in the Property.  If the Property is vacant or abandoned or the loan is \n",
            "in default, Lender may take reasonable action to protect and preserve such vacant or abandoned \n",
            "Property without notice to the Borrower. \n",
            "\n",
            "7.  Condemnation.  The proceeds of any award or claim for damages, direct or \n",
            "\n",
            "3 \n",
            "\n",
            "\n",
            "\n",
            " [page 4] \n",
            "8.  Fees.  Lender may collect fees and charges authorized by the Secretary. \n",
            "\n",
            "9.  Grounds for Acceleration of Debt. \n",
            "\n",
            "4 \n",
            "\n",
            "\n",
            "\n",
            " [page 5] \n",
            "10.  No Deficiency Judgments.  Borrower shall have no personal liability for payment of \n",
            "\n",
            "11.  Reinstatement.  Borrower has a right to be reinstated if Lender has required immediate \n",
            "\n",
            "5 \n",
            "\n",
            "\n",
            "\n",
            " [page 6] \n",
            "12.Lien Status. \n",
            "\n",
            "13.  Forbearance by Lender Not a Waiver.  Any forbearance by Lender in exercising any \n",
            "\n",
            "14.  Successors and Assigns Bound; Joint and Several Liability.  The covenants and \n",
            "\n",
            "6 \n",
            "\n",
            "\n",
            "\n",
            " [page 7] \n",
            "15.  Notices.  Any notice to Borrower provided for in this Security Instrument shall be \n",
            "given by delivering it or by mailing it by first class mail unless applicable law requires use of \n",
            "another method.  The notice shall be directed to the Property Address or any other address all \n",
            "Borrowers jointly designate.  Any notice to Lender shall be given by first class mail to Lender's \n",
            "address stated herein or any address Lender designates by notice to Borrower.  Any notice provided \n",
            "for in this Security Instrument shall be deemed to have been given to Borrower or Lender when \n",
            "given as provided in this Paragraph 15. \n",
            "\n",
            "        16.  Governing Law; Severability.  This Security Instrument shall be governed by Federal \n",
            "law and the law of the jurisdiction in which the Property is located.  In the event that any provision \n",
            "or clause of this Security Instrument or the Note conflicts with applicable law, such conflict shall \n",
            "not affect other provisions of this Security Instrument or the Note which can be given effect \n",
            "without the conflicting provision.  To this end the provisions of this Security Instrument and the \n",
            "Note are declared to be severable. \n",
            "\n",
            "        17.  Borrower's Copy.  Borrower shall be given one conformed copy of the Note and the \n",
            "Security Instrument. \n",
            "\n",
            "        18.  Third-Party Beneficiary.  This Mortgage does not and is not intended to confer \n",
            "any rights or remedies upon any person other than the parties.  Borrower agrees that it is not \n",
            "a third-party beneficiary to the Contract of Insurance between HUD and Lender. \n",
            "\n",
            "        19.  Assignment of Rents.  [Use this language unless prohibited by state law.] Borrower \n",
            "unconditionally assigns and transfers to Lender all the rents and revenues of the Property.  \n",
            "Borrower authorizes Lender or Lender's agents to collect the rents and revenues and hereby directs \n",
            "each tenant of the Property to pay the rents to Lender or Lender's agents. However, prior to \n",
            "Lender's notice to Borrower of Borrower's breach of any covenant or agreement in the Security \n",
            "Instrument, Borrower shall collect and receive all rents and revenues of the Property as trustee for \n",
            "the benefit of Lender and Borrower.  This assignment of rents constitutes an absolute assignment \n",
            "and not an assignment for additional security only. \n",
            "\n",
            "7 \n",
            "\n",
            "\n",
            "\n",
            " [page 8] \n",
            "        20.  Foreclosure Procedure.  [For illustration only.  Needs state adaptation as provided in the \n",
            "instructions attached.] If Lender requires immediate payment in full under Paragraph 9, Lender \n",
            "may invoke the power of sale and any other remedies provided in this Paragraph 20, including, but \n",
            "not limited to, reasonable attorney's fees and costs of title evidence. \n",
            "\n",
            "21.  Lien Priority.  The full amount secured by this Security Instrument shall have the same \n",
            "priority over any other liens on the Property as if the full amount had been disbursed on the date the \n",
            "initial disbursement was made, regardless of the actual date of any disbursement. The amount \n",
            "secured by this Security Instrument shall include all direct payments by Lender to Borrower and all \n",
            "other loan advances permitted by this Security Instrument for any purpose. This lien priority shall \n",
            "apply notwithstanding any State constitution, law or regulation, except that this lien priority shall \n",
            "not affect the priority of any liens for unpaid State or local governmental unit special assessments \n",
            "or taxes.  \n",
            "\n",
            "8 \n",
            "\n",
            "\n",
            "\n",
            " [page 9] \n",
            "9 \n",
            "\n",
            "\n",
            "\n",
            " [page 10] \n",
            "10 \n",
            "\n",
            "\n",
            "\n",
            " [page 11] \n",
            "11 \n",
            "\n"
          ]
        }
      ]
    },
    {
      "cell_type": "code",
      "source": [],
      "metadata": {
        "id": "AYtYaBtd7nMb"
      },
      "execution_count": null,
      "outputs": []
    }
  ],
  "metadata": {
    "colab": {
      "provenance": [],
      "authorship_tag": "ABX9TyOUu+uu2cujU3dYm3XPnRrs",
      "include_colab_link": true
    },
    "kernelspec": {
      "display_name": "Python 3",
      "name": "python3"
    },
    "language_info": {
      "name": "python"
    }
  },
  "nbformat": 4,
  "nbformat_minor": 0
}